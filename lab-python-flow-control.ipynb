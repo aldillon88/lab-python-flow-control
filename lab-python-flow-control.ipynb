{
 "cells": [
  {
   "cell_type": "markdown",
   "id": "d3bfc191-8885-42ee-b0a0-bbab867c6f9f",
   "metadata": {
    "tags": []
   },
   "source": [
    "# Lab | Flow Control"
   ]
  },
  {
   "cell_type": "markdown",
   "id": "3851fcd1-cf98-4653-9c89-e003b7ec9400",
   "metadata": {},
   "source": [
    "## Exercise: Managing Customer Orders Optimized\n",
    "\n",
    "In the last lab, you were starting an online store that sells various products. To ensure smooth operations, you developed a program that manages customer orders and inventory.\n",
    "\n",
    "You did so without using flow control. Let's go a step further and improve this code.\n",
    "\n",
    "Follow the steps below to complete the exercise:\n",
    "\n",
    "1. Look at your code from the lab data structures, and improve repeated code with loops.\n",
    "\n",
    "2. Instead of asking the user to input the name of three products that a customer wants to order, do the following:\n",
    "    \n",
    "    a. Prompt the user to enter the name of a product that a customer wants to order.\n",
    "    \n",
    "    b. Add the product name to the \"customer_orders\" set.\n",
    "    \n",
    "    c. Ask the user if they want to add another product (yes/no).\n",
    "    \n",
    "    d. Continue the loop until the user does not want to add another product.\n",
    "\n",
    "3. Instead of updating the inventory by subtracting 1 from the quantity of each product, only do it for  the products that were ordered (those in \"customer_orders\")."
   ]
  },
  {
   "cell_type": "code",
   "execution_count": 5,
   "id": "548608f6-34c0-4f14-ac45-96f8c10abc5d",
   "metadata": {},
   "outputs": [
    {
     "name": "stdin",
     "output_type": "stream",
     "text": [
      "How many of the following product do we have in stock: t-shirt? 4\n",
      "How many of the following product do we have in stock: mug? 3\n",
      "How many of the following product do we have in stock: hat? 5\n",
      "How many of the following product do we have in stock: book? 6\n",
      "How many of the following product do we have in stock: keychain? 7\n",
      "Which product would you like to buy? mug\n",
      "Would you like another item? (yes/no) yes\n",
      "Which product would you like to buy? book\n",
      "Would you like another item? (yes/no) no\n"
     ]
    },
    {
     "name": "stdout",
     "output_type": "stream",
     "text": [
      "Order Statistics:\n",
      "Total Products Ordered: 2\n",
      "Percentage of Products Ordered: 40.0%\n",
      "t-shirt 4\n",
      "mug 2\n",
      "hat 5\n",
      "book 5\n",
      "keychain 7\n"
     ]
    }
   ],
   "source": [
    "products = [\"t-shirt\", \"mug\", \"hat\", \"book\", \"keychain\"]\n",
    "inventory = {}\n",
    "\n",
    "for prod in products:\n",
    "    inventory[prod] = int(input('How many of the following product do we have in stock: ' + prod + '?'))\n",
    "\n",
    "customer_orders = set()\n",
    "\n",
    "full_basket = False\n",
    "\n",
    "while full_basket == False:\n",
    "    prod = input(\"Which product would you like to buy?\")\n",
    "    customer_orders.add(prod)\n",
    "    keep_shopping = input(\"Would you like another item? (yes/no)\")\n",
    "    if keep_shopping == \"yes\":\n",
    "        full_basket = False\n",
    "    else:\n",
    "        full_basket = True\n",
    "\n",
    "customer_orders\n",
    "total_products_ordered = str(len(customer_orders))\n",
    "order_status = str(len(customer_orders) / len(inventory) * 100)\n",
    "print('Order Statistics:\\nTotal Products Ordered: ' + total_products_ordered + '\\nPercentage of Products Ordered: ' + order_status + '%')\n",
    "\n",
    "for key in inventory.keys():\n",
    "    if key in customer_orders:\n",
    "        inventory[key] -= 1\n",
    "\n",
    "for key, value in inventory.items():\n",
    "    print(key, value)"
   ]
  }
 ],
 "metadata": {
  "kernelspec": {
   "display_name": "Python 3 (ipykernel)",
   "language": "python",
   "name": "python3"
  },
  "language_info": {
   "codemirror_mode": {
    "name": "ipython",
    "version": 3
   },
   "file_extension": ".py",
   "mimetype": "text/x-python",
   "name": "python",
   "nbconvert_exporter": "python",
   "pygments_lexer": "ipython3",
   "version": "3.11.7"
  }
 },
 "nbformat": 4,
 "nbformat_minor": 5
}
